{
 "metadata": {
  "language_info": {
   "codemirror_mode": {
    "name": "ipython",
    "version": 3
   },
   "file_extension": ".py",
   "mimetype": "text/x-python",
   "name": "python",
   "nbconvert_exporter": "python",
   "pygments_lexer": "ipython3",
   "version": "3.8.5-final"
  },
  "orig_nbformat": 2,
  "kernelspec": {
   "name": "image_processing",
   "display_name": "'image_processing'",
   "language": "python"
  }
 },
 "nbformat": 4,
 "nbformat_minor": 2,
 "cells": [
  {
   "cell_type": "code",
   "execution_count": 9,
   "metadata": {},
   "outputs": [],
   "source": [
    "import pandas as pd\n",
    "import numpy as np\n",
    "import json"
   ]
  },
  {
   "cell_type": "code",
   "execution_count": 11,
   "metadata": {},
   "outputs": [
    {
     "output_type": "execute_result",
     "data": {
      "text/plain": [
       "                                                                     sensitivity  \\\n",
       "sample_name                                    method                              \n",
       "Dataset_Group\\04\\images\\BRATS_008_Tumor.nii.gz multi-threshold Otsu     0.934346   \n",
       "Dataset_Group\\04\\images\\BRATS_033_Tumor.nii.gz multi-threshold Otsu     0.799434   \n",
       "Dataset_Group\\04\\images\\BRATS_259_Tumor.nii.gz multi-threshold Otsu     0.801038   \n",
       "Dataset_Group\\04\\images\\BRATS_033_Tumor.nii.gz abc                      0.799434   \n",
       "\n",
       "                                                                     specificity  \\\n",
       "sample_name                                    method                              \n",
       "Dataset_Group\\04\\images\\BRATS_008_Tumor.nii.gz multi-threshold Otsu     0.994992   \n",
       "Dataset_Group\\04\\images\\BRATS_033_Tumor.nii.gz multi-threshold Otsu     0.996676   \n",
       "Dataset_Group\\04\\images\\BRATS_259_Tumor.nii.gz multi-threshold Otsu     0.998380   \n",
       "Dataset_Group\\04\\images\\BRATS_033_Tumor.nii.gz abc                      0.996676   \n",
       "\n",
       "                                                                          iou  \\\n",
       "sample_name                                    method                           \n",
       "Dataset_Group\\04\\images\\BRATS_008_Tumor.nii.gz multi-threshold Otsu  0.726613   \n",
       "Dataset_Group\\04\\images\\BRATS_033_Tumor.nii.gz multi-threshold Otsu  0.626128   \n",
       "Dataset_Group\\04\\images\\BRATS_259_Tumor.nii.gz multi-threshold Otsu  0.646522   \n",
       "Dataset_Group\\04\\images\\BRATS_033_Tumor.nii.gz abc                   0.626128   \n",
       "\n",
       "                                                                         dice  \n",
       "sample_name                                    method                          \n",
       "Dataset_Group\\04\\images\\BRATS_008_Tumor.nii.gz multi-threshold Otsu  0.841663  \n",
       "Dataset_Group\\04\\images\\BRATS_033_Tumor.nii.gz multi-threshold Otsu  0.770085  \n",
       "Dataset_Group\\04\\images\\BRATS_259_Tumor.nii.gz multi-threshold Otsu  0.785318  \n",
       "Dataset_Group\\04\\images\\BRATS_033_Tumor.nii.gz abc                   0.770085  "
      ],
      "text/html": "<div>\n<style scoped>\n    .dataframe tbody tr th:only-of-type {\n        vertical-align: middle;\n    }\n\n    .dataframe tbody tr th {\n        vertical-align: top;\n    }\n\n    .dataframe thead th {\n        text-align: right;\n    }\n</style>\n<table border=\"1\" class=\"dataframe\">\n  <thead>\n    <tr style=\"text-align: right;\">\n      <th></th>\n      <th></th>\n      <th>sensitivity</th>\n      <th>specificity</th>\n      <th>iou</th>\n      <th>dice</th>\n    </tr>\n    <tr>\n      <th>sample_name</th>\n      <th>method</th>\n      <th></th>\n      <th></th>\n      <th></th>\n      <th></th>\n    </tr>\n  </thead>\n  <tbody>\n    <tr>\n      <th>Dataset_Group\\04\\images\\BRATS_008_Tumor.nii.gz</th>\n      <th>multi-threshold Otsu</th>\n      <td>0.934346</td>\n      <td>0.994992</td>\n      <td>0.726613</td>\n      <td>0.841663</td>\n    </tr>\n    <tr>\n      <th>Dataset_Group\\04\\images\\BRATS_033_Tumor.nii.gz</th>\n      <th>multi-threshold Otsu</th>\n      <td>0.799434</td>\n      <td>0.996676</td>\n      <td>0.626128</td>\n      <td>0.770085</td>\n    </tr>\n    <tr>\n      <th>Dataset_Group\\04\\images\\BRATS_259_Tumor.nii.gz</th>\n      <th>multi-threshold Otsu</th>\n      <td>0.801038</td>\n      <td>0.998380</td>\n      <td>0.646522</td>\n      <td>0.785318</td>\n    </tr>\n    <tr>\n      <th>Dataset_Group\\04\\images\\BRATS_033_Tumor.nii.gz</th>\n      <th>abc</th>\n      <td>0.799434</td>\n      <td>0.996676</td>\n      <td>0.626128</td>\n      <td>0.770085</td>\n    </tr>\n  </tbody>\n</table>\n</div>"
     },
     "metadata": {},
     "execution_count": 11
    }
   ],
   "source": [
    "with open('result.json','r')as f:\n",
    "    data=json.load(f)\n",
    "df=pd.DataFrame(data)\n",
    "df.index=df.set_index(['sample_name','method']).index\n",
    "df.drop(['sample_name','method'],axis=1,inplace=True)\n",
    "df"
   ]
  },
  {
   "cell_type": "code",
   "execution_count": null,
   "metadata": {},
   "outputs": [],
   "source": []
  }
 ]
}